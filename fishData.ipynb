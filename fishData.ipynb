{
 "cells": [
  {
   "cell_type": "markdown",
   "id": "7a5458cc-d3a6-4937-b9f3-1c535e0619a5",
   "metadata": {},
   "source": [
    "<h1>Fish 데이터 csv.reader로 읽어와서 확인하기</h1>"
   ]
  },
  {
   "cell_type": "code",
   "execution_count": 1,
   "id": "575d392d-3deb-4856-b4f3-3db824acf4b7",
   "metadata": {
    "scrolled": true
   },
   "outputs": [
    {
     "name": "stdout",
     "output_type": "stream",
     "text": [
      "[5.9, 32.0, 40.0, 51.5, 70.0, 100.0, 78.0, 80.0, 85.0, 85.0, 110.0, 115.0, 125.0, 130.0, 120.0, 120.0, 130.0, 135.0, 110.0, 130.0, 150.0, 145.0, 150.0, 170.0, 225.0, 145.0, 188.0, 180.0, 197.0, 218.0, 300.0, 260.0, 265.0, 250.0, 250.0, 300.0, 320.0, 514.0, 556.0, 840.0, 685.0, 700.0, 700.0, 690.0, 900.0, 650.0, 820.0, 850.0, 900.0, 1015.0, 820.0, 1100.0, 1000.0, 1100.0, 1000.0, 1000.0]\n",
      "[8.4, 13.7, 15.0, 16.2, 17.4, 18.0, 18.7, 19.0, 19.6, 20.0, 21.0, 21.0, 21.0, 21.3, 22.0, 22.0, 22.0, 22.0, 22.0, 22.5, 22.5, 22.7, 23.0, 23.5, 24.0, 24.0, 24.6, 25.0, 25.6, 26.5, 27.3, 27.5, 27.5, 27.5, 28.0, 28.7, 30.0, 32.8, 34.5, 35.0, 36.5, 36.0, 37.0, 37.0, 39.0, 39.0, 39.0, 40.0, 40.0, 40.0, 40.0, 42.0, 43.0, 43.0, 43.5, 44.0]\n"
     ]
    }
   ],
   "source": [
    "import pandas as pd\n",
    "#os (운영체제) -> windows, macos, Linux\n",
    "#예를 들어 사과 --> 기계어로 변환(이진수)\n",
    "#windows11/10 -->사과 --> 001 ->cp949\n",
    "#macOS, Linux -->사과 --> 0=100 -> utf-8\n",
    "import csv\n",
    "f = open(\"Fish.csv\", 'r', encoding='cp949') \n",
    "data = csv.reader(f)\n",
    "\n",
    "h = next(data)\n",
    "\n",
    "perch_weight = []\n",
    "perch_length = []\n",
    "for row in data :\n",
    "    if row[0] =='Perch':\n",
    "            perch_weight.append(float(row[1])) #### y값\n",
    "            perch_length.append(float(row[3])) ###x값\n",
    "\n",
    "f.close()\n",
    "print(perch_weight)\n",
    "print(perch_length)"
   ]
  },
  {
   "cell_type": "code",
   "execution_count": 2,
   "id": "05a01266-35c0-4527-86a6-5c427e5ab3e0",
   "metadata": {},
   "outputs": [],
   "source": [
    "import matplotlib.pyplot as plt"
   ]
  },
  {
   "cell_type": "code",
   "execution_count": 3,
   "id": "1174c974-a978-41fa-830b-2f0d6d15104f",
   "metadata": {},
   "outputs": [
    {
     "data": {
      "image/png": "[encoded data removed]",
      "text/plain": [
       "<Figure size 640x480 with 1 Axes>"
      ]
     },
     "metadata": {},
     "output_type": "display_data"
    }
   ],
   "source": [
    "plt.figure() #도화지 한 장 준비\n",
    "\n",
    "#perch_weight --> y\n",
    "#산점도 scatter plot\n",
    "\n",
    "plt.scatter(perch_length, perch_weight) #x좌푯값, y좌푯값\n",
    "plt.grid()\n",
    "plt.xlabel(\"Length(cm)\")\n",
    "plt.ylabel(\"weight(g)\")\n",
    "plt.show()"
   ]
  },
  {
   "cell_type": "markdown",
   "id": "15a45eee-48b8-48c8-8828-255904be26de",
   "metadata": {},
   "source": [
    "<h1>Chapter02 numpy를 이용한 데이터 전처리</h1>"
   ]
  },
  {
   "cell_type": "code",
   "execution_count": 5,
   "id": "b59bb2a8-cfcd-45d8-a545-bb0da316c9c4",
   "metadata": {},
   "outputs": [
    {
     "name": "stdout",
     "output_type": "stream",
     "text": [
      "<class 'list'>\n",
      "<class 'list'>\n",
      "56\n"
     ]
    }
   ],
   "source": [
    "print(type(perch_length)) #x 길이\n",
    "print(type(perch_weight)) #y 무게\n",
    "print(len(perch_length))"
   ]
  },
  {
   "cell_type": "code",
   "execution_count": 9,
   "id": "70e02458-a596-4343-9214-a70b80827463",
   "metadata": {},
   "outputs": [],
   "source": [
    "import numpy as np\n",
    "x = np.array(perch_length)"
   ]
  },
  {
   "cell_type": "code",
   "execution_count": 10,
   "id": "64b3a08f-6d20-4313-aa3d-3566234a78c5",
   "metadata": {},
   "outputs": [],
   "source": [
    "y = np.array(perch_weight)"
   ]
  },
  {
   "cell_type": "code",
   "execution_count": 19,
   "id": "7d5c6a6c-2a41-4479-9a50-2ab52676a556",
   "metadata": {},
   "outputs": [
    {
     "name": "stdout",
     "output_type": "stream",
     "text": [
      "<class 'numpy.ndarray'> <class 'numpy.ndarray'>\n",
      "[ 8.4 13.7 15.  16.2 17.4 18.  18.7 19.  19.6 20.  21.  21.  21.  21.3\n",
      " 22.  22.  22.  22.  22.  22.5 22.5 22.7 23.  23.5 24.  24.  24.6 25.\n",
      " 25.6 26.5 27.3 27.5 27.5 27.5 28.  28.7 30.  32.8 34.5 35.  36.5 36.\n",
      " 37.  37.  39.  39.  39.  40.  40.  40.  40.  42.  43.  43.  43.5 44. ] [   5.9   32.    40.    51.5   70.   100.    78.    80.    85.    85.\n",
      "  110.   115.   125.   130.   120.   120.   130.   135.   110.   130.\n",
      "  150.   145.   150.   170.   225.   145.   188.   180.   197.   218.\n",
      "  300.   260.   265.   250.   250.   300.   320.   514.   556.   840.\n",
      "  685.   700.   700.   690.   900.   650.   820.   850.   900.  1015.\n",
      "  820.  1100.  1000.  1100.  1000.  1000. ]\n",
      "(56,) (56,)\n"
     ]
    }
   ],
   "source": [
    "print(type(x), type(y)) ##ndarray = n-dimensinal array\n",
    "print(x, y)\n",
    "print(x.shape, y.shape)"
   ]
  },
  {
   "cell_type": "code",
   "execution_count": 21,
   "id": "eb5bd89a-adf5-4ed4-b716-de087395d2a8",
   "metadata": {},
   "outputs": [],
   "source": [
    "#데이터 분할\n",
    "#1 학습용 데이터세트\n",
    "#2 테스트용 데이터세트\n",
    "\n",
    "from sklearn.model_selection import train_test_split\n",
    "#데이터를 랜덤하게 섞음 -> 데이터 분할\n",
    "#random_State? 난수->시드값을 지정(seed)\n",
    "x_train, x_test, y_train, y_test = train_test_split(x, y, random_state=42)"
   ]
  },
  {
   "cell_type": "code",
   "execution_count": 22,
   "id": "443d641f-367b-4bee-a957-1c29a43e796c",
   "metadata": {},
   "outputs": [
    {
     "name": "stdout",
     "output_type": "stream",
     "text": [
      "(42,) (14,)\n",
      "(42,) (14,)\n"
     ]
    }
   ],
   "source": [
    "print(x_train.shape, x_test.shape)\n",
    "print(y_train.shape, y_test.shape)"
   ]
  },
  {
   "cell_type": "code",
   "execution_count": 29,
   "id": "7a8e386a-a91d-4dde-a4d6-3fc4861ef720",
   "metadata": {},
   "outputs": [
    {
     "name": "stdout",
     "output_type": "stream",
     "text": [
      "(6,)\n"
     ]
    },
    {
     "data": {
      "text/plain": [
       "array([[1],\n",
       "       [2],\n",
       "       [3],\n",
       "       [4],\n",
       "       [5],\n",
       "       [6]])"
      ]
     },
     "execution_count": 29,
     "metadata": {},
     "output_type": "execute_result"
    }
   ],
   "source": [
    "tmp = np.array([1,2,3,4,5,6])\n",
    "print(tmp.shape)\n",
    "tmp = tmp.reshape(6,1)\n",
    "tmp"
   ]
  },
  {
   "cell_type": "code",
   "execution_count": 32,
   "id": "fa50934a-f77d-4ac8-b267-81de04572e15",
   "metadata": {},
   "outputs": [],
   "source": [
    "#데이터 전처리!\n",
    "#(42, )(42, ) --> 1차원배열\n",
    "#sklearn은 2차원 배열이 입력될 것을 기대하는 라이브러리\n",
    "#1차워능ㄹ 2차원배열로\n",
    "x_train = x_train.reshape(42,1)\n",
    "x_test = x_test.reshape(14,1)\n",
    "y_train = y_train.reshape(42,1)\n",
    "y_test = y_test.reshape(14,1)"
   ]
  },
  {
   "cell_type": "code",
   "execution_count": 33,
   "id": "37b2c739-b9d1-4b58-a946-d19c2de9c743",
   "metadata": {},
   "outputs": [
    {
     "name": "stdout",
     "output_type": "stream",
     "text": [
      "(42, 1)\n"
     ]
    }
   ],
   "source": [
    "print(x_train.shape)"
   ]
  },
  {
   "cell_type": "markdown",
   "id": "b162d234-3e5d-44aa-98f6-3a8c833f1bdf",
   "metadata": {},
   "source": [
    "## Chapter03 선형회귀"
   ]
  },
  {
   "cell_type": "code",
   "execution_count": 34,
   "id": "ebece2ea-8670-4fe4-81f9-4db8b685213c",
   "metadata": {},
   "outputs": [
    {
     "data": {
      "text/html": [
       "<style>#sk-container-id-1 {color: black;background-color: white;}#sk-container-id-1 pre{padding: 0;}#sk-container-id-1 div.sk-toggleable {background-color: white;}#sk-container-id-1 label.sk-toggleable__label {cursor: pointer;display: block;width: 100%;margin-bottom: 0;padding: 0.3em;box-sizing: border-box;text-align: center;}#sk-container-id-1 label.sk-toggleable__label-arrow:before {content: \"▸\";float: left;margin-right: 0.25em;color: #696969;}#sk-container-id-1 label.sk-toggleable__label-arrow:hover:before {color: black;}#sk-container-id-1 div.sk-estimator:hover label.sk-toggleable__label-arrow:before {color: black;}#sk-container-id-1 div.sk-toggleable__content {max-height: 0;max-width: 0;overflow: hidden;text-align: left;background-color: #f0f8ff;}#sk-container-id-1 div.sk-toggleable__content pre {margin: 0.2em;color: black;border-radius: 0.25em;background-color: #f0f8ff;}#sk-container-id-1 input.sk-toggleable__control:checked~div.sk-toggleable__content {max-height: 200px;max-width: 100%;overflow: auto;}#sk-container-id-1 input.sk-toggleable__control:checked~label.sk-toggleable__label-arrow:before {content: \"▾\";}#sk-container-id-1 div.sk-estimator input.sk-toggleable__control:checked~label.sk-toggleable__label {background-color: #d4ebff;}#sk-container-id-1 div.sk-label input.sk-toggleable__control:checked~label.sk-toggleable__label {background-color: #d4ebff;}#sk-container-id-1 input.sk-hidden--visually {border: 0;clip: rect(1px 1px 1px 1px);clip: rect(1px, 1px, 1px, 1px);height: 1px;margin: -1px;overflow: hidden;padding: 0;position: absolute;width: 1px;}#sk-container-id-1 div.sk-estimator {font-family: monospace;background-color: #f0f8ff;border: 1px dotted black;border-radius: 0.25em;box-sizing: border-box;margin-bottom: 0.5em;}#sk-container-id-1 div.sk-estimator:hover {background-color: #d4ebff;}#sk-container-id-1 div.sk-parallel-item::after {content: \"\";width: 100%;border-bottom: 1px solid gray;flex-grow: 1;}#sk-container-id-1 div.sk-label:hover label.sk-toggleable__label {background-color: #d4ebff;}#sk-container-id-1 div.sk-serial::before {content: \"\";position: absolute;border-left: 1px solid gray;box-sizing: border-box;top: 0;bottom: 0;left: 50%;z-index: 0;}#sk-container-id-1 div.sk-serial {display: flex;flex-direction: column;align-items: center;background-color: white;padding-right: 0.2em;padding-left: 0.2em;position: relative;}#sk-container-id-1 div.sk-item {position: relative;z-index: 1;}#sk-container-id-1 div.sk-parallel {display: flex;align-items: stretch;justify-content: center;background-color: white;position: relative;}#sk-container-id-1 div.sk-item::before, #sk-container-id-1 div.sk-parallel-item::before {content: \"\";position: absolute;border-left: 1px solid gray;box-sizing: border-box;top: 0;bottom: 0;left: 50%;z-index: -1;}#sk-container-id-1 div.sk-parallel-item {display: flex;flex-direction: column;z-index: 1;position: relative;background-color: white;}#sk-container-id-1 div.sk-parallel-item:first-child::after {align-self: flex-end;width: 50%;}#sk-container-id-1 div.sk-parallel-item:last-child::after {align-self: flex-start;width: 50%;}#sk-container-id-1 div.sk-parallel-item:only-child::after {width: 0;}#sk-container-id-1 div.sk-dashed-wrapped {border: 1px dashed gray;margin: 0 0.4em 0.5em 0.4em;box-sizing: border-box;padding-bottom: 0.4em;background-color: white;}#sk-container-id-1 div.sk-label label {font-family: monospace;font-weight: bold;display: inline-block;line-height: 1.2em;}#sk-container-id-1 div.sk-label-container {text-align: center;}#sk-container-id-1 div.sk-container {/* jupyter's `normalize.less` sets `[hidden] { display: none; }` but bootstrap.min.css set `[hidden] { display: none !important; }` so we also need the `!important` here to be able to override the default hidden behavior on the sphinx rendered scikit-learn.org. See: https://github.com/scikit-learn/scikit-learn/issues/21755 */display: inline-block !important;position: relative;}#sk-container-id-1 div.sk-text-repr-fallback {display: none;}</style><div id=\"sk-container-id-1\" class=\"sk-top-container\"><div class=\"sk-text-repr-fallback\"><pre>LinearRegression()</pre><b>In a Jupyter environment, please rerun this cell to show the HTML representation or trust the notebook. <br />On GitHub, the HTML representation is unable to render, please try loading this page with nbviewer.org.</b></div><div class=\"sk-container\" hidden><div class=\"sk-item\"><div class=\"sk-estimator sk-toggleable\"><input class=\"sk-toggleable__control sk-hidden--visually\" id=\"sk-estimator-id-1\" type=\"checkbox\" checked><label for=\"sk-estimator-id-1\" class=\"sk-toggleable__label sk-toggleable__label-arrow\">LinearRegression</label><div class=\"sk-toggleable__content\"><pre>LinearRegression()</pre></div></div></div></div></div>"
      ],
      "text/plain": [
       "LinearRegression()"
      ]
     },
     "execution_count": 34,
     "metadata": {},
     "output_type": "execute_result"
    }
   ],
   "source": [
    "#모델생성\n",
    "\n",
    "from sklearn.linear_model import LinearRegression\n",
    "lr = LinearRegression() ##클래스 호출 lr 객체 생성!\n",
    "\n",
    "#y = ax + b\n",
    "# a = ? b = ?\n",
    "\n",
    "lr.fit(x_train, y_train)"
   ]
  },
  {
   "cell_type": "code",
   "execution_count": 36,
   "id": "a7f492d5-8ae6-4fe9-a2b9-ad450468cde5",
   "metadata": {},
   "outputs": [
    {
     "name": "stdout",
     "output_type": "stream",
     "text": [
      "[[500.51284892]\n",
      " [305.4271241 ]]\n"
     ]
    }
   ],
   "source": [
    "print(lr.predict([[31],[26]])) #1번 물고기 길이가 31 2번 물고기 길이가 26"
   ]
  },
  {
   "cell_type": "code",
   "execution_count": 42,
   "id": "34764478-1db9-4614-8e1d-edc99816aa94",
   "metadata": {},
   "outputs": [
    {
     "name": "stdout",
     "output_type": "stream",
     "text": [
      "[[39.01714496]]\n",
      "[-709.01864495]\n"
     ]
    }
   ],
   "source": [
    "# y= w1x+ w2x + b\n",
    "#a <---계수(coeffienct)\n",
    "#b <-- y절편(y-intercept)\n",
    "print(lr.coef_)\n",
    "print(lr.intercept_)"
   ]
  },
  {
   "cell_type": "code",
   "execution_count": 74,
   "id": "add22430-5582-4fed-913c-28fa716a8dd0",
   "metadata": {},
   "outputs": [],
   "source": [
    "#plt.figure() #도화지 한 장 준비\n",
    "#a = lr.coef_\n",
    "#b = lr.intercept_\n",
    "#perch_weight --> y\n",
    "#산점도 scatter plot\n",
    "\n",
    "#plt.scatter(x_train, y_train, color='g') #x좌푯값, y좌푯값\n",
    "#plt.scatter([31,26],[500.51284892, 305.4271241])\n",
    "#plt.plot([15, 50], [a * 15+b, a * 50 + b], color='r')\n",
    "#plt.grid()\n",
    "#plt.xlabel(\"Length(cm)\")\n",
    "#plt.ylabel(\"weight(g)\")\n",
    "#plt.show()"
   ]
  },
  {
   "cell_type": "code",
   "execution_count": 48,
   "id": "321ca89c-06ff-411e-87c9-b39fbef4bdbc",
   "metadata": {},
   "outputs": [
    {
     "name": "stdout",
     "output_type": "stream",
     "text": [
      "0.8247503123313559\n"
     ]
    }
   ],
   "source": [
    "print(lr.score(x_test,y_test)) #결정계수값을 계산해서 반환해줌"
   ]
  },
  {
   "cell_type": "code",
   "execution_count": 50,
   "id": "8a1ca726-4770-4329-824e-068277da60d9",
   "metadata": {},
   "outputs": [
    {
     "name": "stdout",
     "output_type": "stream",
     "text": [
      "94.4612293798558\n"
     ]
    }
   ],
   "source": [
    "from sklearn.metrics import mean_absolute_error #MAE (평균절대오차)\n",
    "\n",
    "y_pred = lr.predict(x_test) \n",
    "mae = mean_absolute_error(y_test,y_pred)#sum(|정답 - 예측값|)/N\n",
    "\n",
    "print(mae) #0에 가까운 값일 수록 학습이 잘 된 모델이다.\n",
    "# 예측값에는 평균적으로 약 94G정도의 오차를 가질 수 있다."
   ]
  },
  {
   "cell_type": "code",
   "execution_count": 52,
   "id": "3f0735c2-2de5-49b1-acb7-04a0e7da820b",
   "metadata": {},
   "outputs": [
    {
     "name": "stdout",
     "output_type": "stream",
     "text": [
      "0.9398463339976041\n",
      "0.8247503123313559\n"
     ]
    }
   ],
   "source": [
    "#과대적합과 과소적합 이해하기\n",
    "print(lr.score(x_train,y_train)) #학습용 데이터 R^2 값\n",
    "print(lr.score(x_test,y_test)) # 테스트용 데이터 R^2 값"
   ]
  },
  {
   "cell_type": "code",
   "execution_count": 55,
   "id": "250dfb9c-b390-4ca2-801f-c0512ad2f06f",
   "metadata": {},
   "outputs": [],
   "source": [
    "## **Chapter 04. 다항회귀"
   ]
  },
  {
   "cell_type": "code",
   "execution_count": 71,
   "id": "d5f89701-e1a4-42d8-9358-2f3405b30e61",
   "metadata": {},
   "outputs": [
    {
     "name": "stdout",
     "output_type": "stream",
     "text": [
      "(42, 2)\n",
      "[[ 384.16   19.6 ]\n",
      " [ 484.     22.  ]\n",
      " [ 349.69   18.7 ]\n",
      " [ 302.76   17.4 ]\n",
      " [1296.     36.  ]\n",
      " [ 625.     25.  ]\n",
      " [1600.     40.  ]\n",
      " [1521.     39.  ]\n",
      " [1849.     43.  ]\n",
      " [ 484.     22.  ]\n",
      " [ 400.     20.  ]\n",
      " [ 484.     22.  ]\n",
      " [ 576.     24.  ]\n",
      " [ 756.25   27.5 ]\n",
      " [1849.     43.  ]\n",
      " [1600.     40.  ]\n",
      " [ 576.     24.  ]\n",
      " [ 441.     21.  ]\n",
      " [ 756.25   27.5 ]\n",
      " [1600.     40.  ]\n",
      " [1075.84   32.8 ]\n",
      " [ 702.25   26.5 ]\n",
      " [1332.25   36.5 ]\n",
      " [ 187.69   13.7 ]\n",
      " [ 515.29   22.7 ]\n",
      " [ 225.     15.  ]\n",
      " [1369.     37.  ]\n",
      " [1225.     35.  ]\n",
      " [ 823.69   28.7 ]\n",
      " [ 552.25   23.5 ]\n",
      " [1521.     39.  ]\n",
      " [ 441.     21.  ]\n",
      " [ 529.     23.  ]\n",
      " [ 484.     22.  ]\n",
      " [1936.     44.  ]\n",
      " [ 506.25   22.5 ]\n",
      " [ 361.     19.  ]\n",
      " [1369.     37.  ]\n",
      " [ 484.     22.  ]\n",
      " [ 655.36   25.6 ]\n",
      " [1764.     42.  ]\n",
      " [1190.25   34.5 ]]\n"
     ]
    }
   ],
   "source": [
    "x_train_poly = np.column_stack((x_train ** 2, x_train))\n",
    "x_test_poly = np.column_stack((x_test ** 2, x_test))\n",
    "print(x_train_poly.shape)\n",
    "print(x_train_poly)"
   ]
  },
  {
   "cell_type": "code",
   "execution_count": 72,
   "id": "027882f8-eb5b-41e3-ab1f-e981d540399d",
   "metadata": {},
   "outputs": [
    {
     "data": {
      "text/html": [
       "<style>#sk-container-id-4 {color: black;background-color: white;}#sk-container-id-4 pre{padding: 0;}#sk-container-id-4 div.sk-toggleable {background-color: white;}#sk-container-id-4 label.sk-toggleable__label {cursor: pointer;display: block;width: 100%;margin-bottom: 0;padding: 0.3em;box-sizing: border-box;text-align: center;}#sk-container-id-4 label.sk-toggleable__label-arrow:before {content: \"▸\";float: left;margin-right: 0.25em;color: #696969;}#sk-container-id-4 label.sk-toggleable__label-arrow:hover:before {color: black;}#sk-container-id-4 div.sk-estimator:hover label.sk-toggleable__label-arrow:before {color: black;}#sk-container-id-4 div.sk-toggleable__content {max-height: 0;max-width: 0;overflow: hidden;text-align: left;background-color: #f0f8ff;}#sk-container-id-4 div.sk-toggleable__content pre {margin: 0.2em;color: black;border-radius: 0.25em;background-color: #f0f8ff;}#sk-container-id-4 input.sk-toggleable__control:checked~div.sk-toggleable__content {max-height: 200px;max-width: 100%;overflow: auto;}#sk-container-id-4 input.sk-toggleable__control:checked~label.sk-toggleable__label-arrow:before {content: \"▾\";}#sk-container-id-4 div.sk-estimator input.sk-toggleable__control:checked~label.sk-toggleable__label {background-color: #d4ebff;}#sk-container-id-4 div.sk-label input.sk-toggleable__control:checked~label.sk-toggleable__label {background-color: #d4ebff;}#sk-container-id-4 input.sk-hidden--visually {border: 0;clip: rect(1px 1px 1px 1px);clip: rect(1px, 1px, 1px, 1px);height: 1px;margin: -1px;overflow: hidden;padding: 0;position: absolute;width: 1px;}#sk-container-id-4 div.sk-estimator {font-family: monospace;background-color: #f0f8ff;border: 1px dotted black;border-radius: 0.25em;box-sizing: border-box;margin-bottom: 0.5em;}#sk-container-id-4 div.sk-estimator:hover {background-color: #d4ebff;}#sk-container-id-4 div.sk-parallel-item::after {content: \"\";width: 100%;border-bottom: 1px solid gray;flex-grow: 1;}#sk-container-id-4 div.sk-label:hover label.sk-toggleable__label {background-color: #d4ebff;}#sk-container-id-4 div.sk-serial::before {content: \"\";position: absolute;border-left: 1px solid gray;box-sizing: border-box;top: 0;bottom: 0;left: 50%;z-index: 0;}#sk-container-id-4 div.sk-serial {display: flex;flex-direction: column;align-items: center;background-color: white;padding-right: 0.2em;padding-left: 0.2em;position: relative;}#sk-container-id-4 div.sk-item {position: relative;z-index: 1;}#sk-container-id-4 div.sk-parallel {display: flex;align-items: stretch;justify-content: center;background-color: white;position: relative;}#sk-container-id-4 div.sk-item::before, #sk-container-id-4 div.sk-parallel-item::before {content: \"\";position: absolute;border-left: 1px solid gray;box-sizing: border-box;top: 0;bottom: 0;left: 50%;z-index: -1;}#sk-container-id-4 div.sk-parallel-item {display: flex;flex-direction: column;z-index: 1;position: relative;background-color: white;}#sk-container-id-4 div.sk-parallel-item:first-child::after {align-self: flex-end;width: 50%;}#sk-container-id-4 div.sk-parallel-item:last-child::after {align-self: flex-start;width: 50%;}#sk-container-id-4 div.sk-parallel-item:only-child::after {width: 0;}#sk-container-id-4 div.sk-dashed-wrapped {border: 1px dashed gray;margin: 0 0.4em 0.5em 0.4em;box-sizing: border-box;padding-bottom: 0.4em;background-color: white;}#sk-container-id-4 div.sk-label label {font-family: monospace;font-weight: bold;display: inline-block;line-height: 1.2em;}#sk-container-id-4 div.sk-label-container {text-align: center;}#sk-container-id-4 div.sk-container {/* jupyter's `normalize.less` sets `[hidden] { display: none; }` but bootstrap.min.css set `[hidden] { display: none !important; }` so we also need the `!important` here to be able to override the default hidden behavior on the sphinx rendered scikit-learn.org. See: https://github.com/scikit-learn/scikit-learn/issues/21755 */display: inline-block !important;position: relative;}#sk-container-id-4 div.sk-text-repr-fallback {display: none;}</style><div id=\"sk-container-id-4\" class=\"sk-top-container\"><div class=\"sk-text-repr-fallback\"><pre>LinearRegression()</pre><b>In a Jupyter environment, please rerun this cell to show the HTML representation or trust the notebook. <br />On GitHub, the HTML representation is unable to render, please try loading this page with nbviewer.org.</b></div><div class=\"sk-container\" hidden><div class=\"sk-item\"><div class=\"sk-estimator sk-toggleable\"><input class=\"sk-toggleable__control sk-hidden--visually\" id=\"sk-estimator-id-4\" type=\"checkbox\" checked><label for=\"sk-estimator-id-4\" class=\"sk-toggleable__label sk-toggleable__label-arrow\">LinearRegression</label><div class=\"sk-toggleable__content\"><pre>LinearRegression()</pre></div></div></div></div></div>"
      ],
      "text/plain": [
       "LinearRegression()"
      ]
     },
     "execution_count": 72,
     "metadata": {},
     "output_type": "execute_result"
    }
   ],
   "source": [
    "lr = LinearRegression()\n",
    "lr.fit(x_train_poly, y_train)"
   ]
  },
  {
   "cell_type": "code",
   "execution_count": 73,
   "id": "bc5d6d35-8511-4de5-9b27-ab31d51219f6",
   "metadata": {},
   "outputs": [
    {
     "name": "stdout",
     "output_type": "stream",
     "text": [
      "[[  1.01433211 -21.55792498]]\n",
      "[116.05021078]\n"
     ]
    }
   ],
   "source": [
    "print(lr.coef_)\n",
    "print(lr.intercept_)"
   ]
  },
  {
   "cell_type": "code",
   "execution_count": 68,
   "id": "3b2b8563-b122-4eba-98e7-5db700c5481d",
   "metadata": {},
   "outputs": [],
   "source": [
    "a = lr.coef_[0][0]\n",
    "b = lr.coef_[0][1]\n",
    "c = lr.intercept_"
   ]
  },
  {
   "cell_type": "code",
   "execution_count": 75,
   "id": "ab35a0a4-a95f-4ed3-85f6-60e52fc988e9",
   "metadata": {},
   "outputs": [],
   "source": [
    "#plt.figure() #도화지 한 장 준비\n",
    "\n",
    "#perch_weight --> y\n",
    "#산점도 scatter plot\n",
    "#x_pos = np.arrange(15,50,1)\n",
    "#y_pos = a * (x_pos **2) + b * x_pos = c\n",
    "#plt.scatter(x_train, y_train, color='green') #x좌푯값, y좌푯값\n",
    "\n",
    "#plt.plot(x_pos, y_pos)\n",
    "\n",
    "#plt.grid()\n",
    "#plt.xlabel(\"Length(cm)\")\n",
    "#plt.ylabel(\"weight(g)\")\n",
    "#plt.show()"
   ]
  },
  {
   "cell_type": "code",
   "execution_count": 70,
   "id": "2221bf21-5604-4da9-81ff-164b5e65eda4",
   "metadata": {},
   "outputs": [
    {
     "name": "stdout",
     "output_type": "stream",
     "text": [
      "0.9706807451768623\n",
      "0.9775935108325121\n"
     ]
    }
   ],
   "source": [
    "print(lr.score(x_train_poly, y_train))\n",
    "print(lr.score(x_test_poly, y_test))\n",
    "\n",
    "#시험 데이터 셋의 스코어가 더 좋음 그뜻은 과소적합 문제가 발생했다."
   ]
  },
  {
   "cell_type": "code",
   "execution_count": null,
   "id": "e0532354-bf42-48a8-b3f9-9b10d63348bc",
   "metadata": {},
   "outputs": [],
   "source": [
    "#규제 (regularization) <--lecture 08주제\n",
    "#1) 라쏘\n",
    "#2) 릿지\n",
    "#3) 엘라스틱 넷"
   ]
  }
 ],
 "metadata": {
  "kernelspec": {
   "display_name": "Python 3 (ipykernel)",
   "language": "python",
   "name": "python3"
  },
  "language_info": {
   "codemirror_mode": {
    "name": "ipython",
    "version": 3
   },
   "file_extension": ".py",
   "mimetype": "text/x-python",
   "name": "python",
   "nbconvert_exporter": "python",
   "pygments_lexer": "ipython3",
   "version": "3.11.7"
  }
 },
 "nbformat": 4,
 "nbformat_minor": 5
}
